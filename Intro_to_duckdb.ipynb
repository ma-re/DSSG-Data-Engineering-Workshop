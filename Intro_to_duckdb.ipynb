{
 "cells": [
  {
   "cell_type": "markdown",
   "metadata": {},
   "source": [
    "# Introduction to DuckDB\n",
    "\n",
    "[DuckDB](https://duckdb.org/) is an open-source analytical SQL database management system designed for high performance and efficiency. It's built to excel in handling complex analytical queries on large volumes of data while maintaining a lightweight footprint. DuckDB is known for its exceptional speed in executing queries and its ability to operate seamlessly within various environments, from laptops to large-scale server setups.\n",
    "\n",
    "One of its standout features is its support for standard SQL queries, making it accessible to users familiar with SQL syntax. Additionally, DuckDB is optimized for read-heavy workloads, making it an ideal choice for data exploration, analytics, and research purposes.\n",
    "\n",
    "DuckDB also provides integration with popular data science tools like Jupyter Notebooks and Pandas, facilitating a smooth workflow for analysts and data scientists. Its compatibility with Jupyter Notebooks allows for an interactive and collaborative environment where users can harness DuckDB's power alongside their code and analysis.\n",
    "\n",
    "Moreover, DuckDB's integration with Pandas simplifies data manipulation and analysis. It enables the execution of SQL queries directly on Pandas DataFrames, providing a familiar interface for those comfortable with Pandas while leveraging DuckDB's speed and efficiency for data processing.\n",
    "\n",
    "Another notable aspect is that it can handle various data formats such as CSV, Parquet, and others. And let's you interact with these formats through SQL queries streamlines the process of querying and analyzing diverse data sources without the need for extensive data preprocessing.\n",
    "\n",
    "So DuckDB offers a user-friendly environment for data exploration, analysis, and manipulation.\n",
    "\n",
    "To get started let's import duckdb and pandas. To be able to convert jupyter notebook cells to sql cells we need to also load the jupysql extension."
   ]
  },
  {
   "cell_type": "code",
   "execution_count": null,
   "metadata": {},
   "outputs": [],
   "source": [
    "import duckdb\n",
    "import pandas as pd\n",
    "import json\n",
    "\n",
    "# Import jupysql Jupyter extension to create SQL cells\n",
    "%load_ext sql"
   ]
  },
  {
   "cell_type": "markdown",
   "metadata": {},
   "source": [
    "### Configure the notebook\n",
    "Set configurations on the ipython sql extension to directly output data to Pandas and to simplify the output that is printed to the notebook."
   ]
  },
  {
   "cell_type": "code",
   "execution_count": null,
   "metadata": {},
   "outputs": [],
   "source": [
    "%config SqlMagic.autopandas = True\n",
    "%config SqlMagic.feedback = False\n",
    "%config SqlMagic.displaycon = False"
   ]
  },
  {
   "cell_type": "markdown",
   "metadata": {},
   "source": [
    "### Connect to a DuckDB database\n",
    "Connect to a DuckDB Database using a SQLAlchemy-style connection string. You may either connect to an in memory DuckDB, or a file backed db.\n",
    "\n",
    "But this is only a local example. You can also use a SQL Alchemy connection string to connect to a remote database e.g. in the cloud."
   ]
  },
  {
   "cell_type": "code",
   "execution_count": null,
   "metadata": {},
   "outputs": [],
   "source": [
    "%sql duckdb:///duckdb_db/sampleDB.duckdb"
   ]
  },
  {
   "cell_type": "markdown",
   "metadata": {},
   "source": [
    "## Loading data\n",
    "\n",
    "We have two files in our data directory:\n",
    "- pokemon__donations.json\n",
    "- pokemon__masterdata.csv\n",
    "\n",
    "### Load a json file into duckdb\n",
    "\n",
    "So we will see how we can use DuckDB on json and csv files. let's start with the json. Here we will create a pandas dataframe first and than load that into the database."
   ]
  },
  {
   "cell_type": "code",
   "execution_count": null,
   "metadata": {},
   "outputs": [],
   "source": [
    "df_donations = pd.read_json('data/pokemon__donations.json', orient='records')\n",
    "df_donations.head()"
   ]
  },
  {
   "cell_type": "markdown",
   "metadata": {},
   "source": [
    "With duckdb we now can query this dataframe using SQL."
   ]
  },
  {
   "cell_type": "code",
   "execution_count": null,
   "metadata": {},
   "outputs": [],
   "source": [
    "%%sql\n",
    "\n",
    "Select * from df_donations\n",
    "where donation_amount_eur > 1000;"
   ]
  },
  {
   "cell_type": "markdown",
   "metadata": {},
   "source": [
    "Or we can quite easily create a table from this dataframe in a duckdb database with duckdb:"
   ]
  },
  {
   "cell_type": "code",
   "execution_count": null,
   "metadata": {},
   "outputs": [],
   "source": [
    "%%sql\n",
    "CREATE TABLE pokemon__donations AS SELECT * FROM df_donations"
   ]
  },
  {
   "cell_type": "markdown",
   "metadata": {},
   "source": [
    "### Load a csv file into duckdb\n",
    "\n",
    "But we can also load a csv file directly into duckdb. "
   ]
  },
  {
   "cell_type": "code",
   "execution_count": null,
   "metadata": {},
   "outputs": [],
   "source": [
    "%%sql\n",
    "\n",
    "SELECT * FROM 'data/pokemon__masterdata.csv';"
   ]
  },
  {
   "cell_type": "markdown",
   "metadata": {},
   "source": [
    "And of course we also can create a table in the duckdb database. We can do this with the COPY command. First we create the table:"
   ]
  },
  {
   "cell_type": "code",
   "execution_count": null,
   "metadata": {},
   "outputs": [],
   "source": [
    "%%sql\n",
    "\n",
    "CREATE TABLE pokemon__masterdata(\n",
    "    pokemon_identifier INT,\n",
    "    pokemon_name VARCHAR,\n",
    "    pokemon_type VARCHAR\n",
    "    );"
   ]
  },
  {
   "cell_type": "markdown",
   "metadata": {},
   "source": [
    "And than we can load the data into the table:"
   ]
  },
  {
   "cell_type": "code",
   "execution_count": null,
   "metadata": {},
   "outputs": [],
   "source": [
    "%%sql\n",
    "\n",
    "COPY pokemon__masterdata FROM 'data/pokemon__masterdata.csv' (HEADER TRUE, DELIMITER ',');"
   ]
  },
  {
   "cell_type": "markdown",
   "metadata": {},
   "source": [
    "## Querying the database and exporting the results\n",
    "\n",
    "So now we created the tables and loaded the data into the database we can query the database using SQL. Let's start with the donations table:"
   ]
  },
  {
   "cell_type": "code",
   "execution_count": null,
   "metadata": {},
   "outputs": [],
   "source": [
    "%%sql\n",
    "\n",
    "select * from pokemon__donations"
   ]
  },
  {
   "cell_type": "code",
   "execution_count": null,
   "metadata": {},
   "outputs": [],
   "source": [
    "%%sql\n",
    "\n",
    "select * from pokemon__masterdata"
   ]
  },
  {
   "cell_type": "markdown",
   "metadata": {},
   "source": [
    "We could now join the donations table with the pokemon table to get the pokemon names for the donations. And export the result to a pandas dataframe:"
   ]
  },
  {
   "cell_type": "code",
   "execution_count": null,
   "metadata": {},
   "outputs": [],
   "source": [
    "%%sql\n",
    "\n",
    "df_join << SELECT * FROM pokemon__donations \n",
    "LEFT JOIN pokemon__masterdata \n",
    "ON pokemon__donations.pokemon_id = pokemon__masterdata.pokemon_identifier"
   ]
  },
  {
   "cell_type": "code",
   "execution_count": null,
   "metadata": {},
   "outputs": [],
   "source": [
    "df_join.head()"
   ]
  },
  {
   "cell_type": "markdown",
   "metadata": {},
   "source": [
    "Or we could save the result to a csv file:"
   ]
  },
  {
   "cell_type": "code",
   "execution_count": null,
   "metadata": {},
   "outputs": [],
   "source": [
    "%%sql\n",
    "\n",
    "COPY(\n",
    "    SELECT * FROM pokemon__donations \n",
    "    LEFT JOIN pokemon__masterdata \n",
    "    ON pokemon__donations.pokemon_id = pokemon__masterdata.pokemon_identifier\n",
    ")\n",
    "TO 'data/output.csv' (HEADER, DELIMITER ',');"
   ]
  },
  {
   "cell_type": "markdown",
   "metadata": {},
   "source": [
    "## Why should you use DuckDB over Pandas? \n",
    "\n",
    "You shouldn't (except you like SQL more than Python). But you can use DuckDB in combination with Pandas. So you can combine the power of DuckDB and the power of Pandas."
   ]
  }
 ],
 "metadata": {
  "kernelspec": {
   "display_name": "Python 3.9.8 ('.venv': venv)",
   "language": "python",
   "name": "python3"
  },
  "language_info": {
   "codemirror_mode": {
    "name": "ipython",
    "version": 3
   },
   "file_extension": ".py",
   "mimetype": "text/x-python",
   "name": "python",
   "nbconvert_exporter": "python",
   "pygments_lexer": "ipython3",
   "version": "3.11.3"
  },
  "orig_nbformat": 4,
  "vscode": {
   "interpreter": {
    "hash": "4df769df806b58f95ee4f09621ff8561b0141806a21b31c407df91154cbeecec"
   }
  }
 },
 "nbformat": 4,
 "nbformat_minor": 2
}
